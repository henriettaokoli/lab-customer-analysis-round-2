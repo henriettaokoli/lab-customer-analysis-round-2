{
 "cells": [
  {
   "cell_type": "code",
   "execution_count": 1,
   "id": "a5a1c319-8bb6-4476-9c68-e0893187906c",
   "metadata": {},
   "outputs": [],
   "source": [
    "import pandas as pd\n",
    "import numpy as np\n"
   ]
  },
  {
   "cell_type": "code",
   "execution_count": 3,
   "id": "4148d945-f967-4a18-a21c-54d1391a325d",
   "metadata": {},
   "outputs": [
    {
     "data": {
      "text/html": [
       "<div>\n",
       "<style scoped>\n",
       "    .dataframe tbody tr th:only-of-type {\n",
       "        vertical-align: middle;\n",
       "    }\n",
       "\n",
       "    .dataframe tbody tr th {\n",
       "        vertical-align: top;\n",
       "    }\n",
       "\n",
       "    .dataframe thead th {\n",
       "        text-align: right;\n",
       "    }\n",
       "</style>\n",
       "<table border=\"1\" class=\"dataframe\">\n",
       "  <thead>\n",
       "    <tr style=\"text-align: right;\">\n",
       "      <th></th>\n",
       "      <th>Unnamed: 0</th>\n",
       "      <th>Customer</th>\n",
       "      <th>State</th>\n",
       "      <th>Customer Lifetime Value</th>\n",
       "      <th>Response</th>\n",
       "      <th>Coverage</th>\n",
       "      <th>Education</th>\n",
       "      <th>Effective To Date</th>\n",
       "      <th>EmploymentStatus</th>\n",
       "      <th>Gender</th>\n",
       "      <th>...</th>\n",
       "      <th>Number of Open Complaints</th>\n",
       "      <th>Number of Policies</th>\n",
       "      <th>Policy Type</th>\n",
       "      <th>Policy</th>\n",
       "      <th>Renew Offer Type</th>\n",
       "      <th>Sales Channel</th>\n",
       "      <th>Total Claim Amount</th>\n",
       "      <th>Vehicle Class</th>\n",
       "      <th>Vehicle Size</th>\n",
       "      <th>Vehicle Type</th>\n",
       "    </tr>\n",
       "  </thead>\n",
       "  <tbody>\n",
       "    <tr>\n",
       "      <th>0</th>\n",
       "      <td>0</td>\n",
       "      <td>DK49336</td>\n",
       "      <td>Arizona</td>\n",
       "      <td>4809.216960</td>\n",
       "      <td>No</td>\n",
       "      <td>Basic</td>\n",
       "      <td>College</td>\n",
       "      <td>2/18/11</td>\n",
       "      <td>Employed</td>\n",
       "      <td>M</td>\n",
       "      <td>...</td>\n",
       "      <td>0.0</td>\n",
       "      <td>9</td>\n",
       "      <td>Corporate Auto</td>\n",
       "      <td>Corporate L3</td>\n",
       "      <td>Offer3</td>\n",
       "      <td>Agent</td>\n",
       "      <td>292.800000</td>\n",
       "      <td>Four-Door Car</td>\n",
       "      <td>Medsize</td>\n",
       "      <td>NaN</td>\n",
       "    </tr>\n",
       "    <tr>\n",
       "      <th>1</th>\n",
       "      <td>1</td>\n",
       "      <td>KX64629</td>\n",
       "      <td>California</td>\n",
       "      <td>2228.525238</td>\n",
       "      <td>No</td>\n",
       "      <td>Basic</td>\n",
       "      <td>College</td>\n",
       "      <td>1/18/11</td>\n",
       "      <td>Unemployed</td>\n",
       "      <td>F</td>\n",
       "      <td>...</td>\n",
       "      <td>0.0</td>\n",
       "      <td>1</td>\n",
       "      <td>Personal Auto</td>\n",
       "      <td>Personal L3</td>\n",
       "      <td>Offer4</td>\n",
       "      <td>Call Center</td>\n",
       "      <td>744.924331</td>\n",
       "      <td>Four-Door Car</td>\n",
       "      <td>Medsize</td>\n",
       "      <td>NaN</td>\n",
       "    </tr>\n",
       "    <tr>\n",
       "      <th>2</th>\n",
       "      <td>2</td>\n",
       "      <td>LZ68649</td>\n",
       "      <td>Washington</td>\n",
       "      <td>14947.917300</td>\n",
       "      <td>No</td>\n",
       "      <td>Basic</td>\n",
       "      <td>Bachelor</td>\n",
       "      <td>2/10/11</td>\n",
       "      <td>Employed</td>\n",
       "      <td>M</td>\n",
       "      <td>...</td>\n",
       "      <td>0.0</td>\n",
       "      <td>2</td>\n",
       "      <td>Personal Auto</td>\n",
       "      <td>Personal L3</td>\n",
       "      <td>Offer3</td>\n",
       "      <td>Call Center</td>\n",
       "      <td>480.000000</td>\n",
       "      <td>SUV</td>\n",
       "      <td>Medsize</td>\n",
       "      <td>A</td>\n",
       "    </tr>\n",
       "    <tr>\n",
       "      <th>3</th>\n",
       "      <td>3</td>\n",
       "      <td>XL78013</td>\n",
       "      <td>Oregon</td>\n",
       "      <td>22332.439460</td>\n",
       "      <td>Yes</td>\n",
       "      <td>Extended</td>\n",
       "      <td>College</td>\n",
       "      <td>1/11/11</td>\n",
       "      <td>Employed</td>\n",
       "      <td>M</td>\n",
       "      <td>...</td>\n",
       "      <td>0.0</td>\n",
       "      <td>2</td>\n",
       "      <td>Corporate Auto</td>\n",
       "      <td>Corporate L3</td>\n",
       "      <td>Offer2</td>\n",
       "      <td>Branch</td>\n",
       "      <td>484.013411</td>\n",
       "      <td>Four-Door Car</td>\n",
       "      <td>Medsize</td>\n",
       "      <td>A</td>\n",
       "    </tr>\n",
       "    <tr>\n",
       "      <th>4</th>\n",
       "      <td>4</td>\n",
       "      <td>QA50777</td>\n",
       "      <td>Oregon</td>\n",
       "      <td>9025.067525</td>\n",
       "      <td>No</td>\n",
       "      <td>Premium</td>\n",
       "      <td>Bachelor</td>\n",
       "      <td>1/17/11</td>\n",
       "      <td>Medical Leave</td>\n",
       "      <td>F</td>\n",
       "      <td>...</td>\n",
       "      <td>NaN</td>\n",
       "      <td>7</td>\n",
       "      <td>Personal Auto</td>\n",
       "      <td>Personal L2</td>\n",
       "      <td>Offer1</td>\n",
       "      <td>Branch</td>\n",
       "      <td>707.925645</td>\n",
       "      <td>Four-Door Car</td>\n",
       "      <td>Medsize</td>\n",
       "      <td>NaN</td>\n",
       "    </tr>\n",
       "  </tbody>\n",
       "</table>\n",
       "<p>5 rows × 26 columns</p>\n",
       "</div>"
      ],
      "text/plain": [
       "   Unnamed: 0 Customer       State  Customer Lifetime Value Response  \\\n",
       "0           0  DK49336     Arizona              4809.216960       No   \n",
       "1           1  KX64629  California              2228.525238       No   \n",
       "2           2  LZ68649  Washington             14947.917300       No   \n",
       "3           3  XL78013      Oregon             22332.439460      Yes   \n",
       "4           4  QA50777      Oregon              9025.067525       No   \n",
       "\n",
       "   Coverage Education Effective To Date EmploymentStatus Gender  ...  \\\n",
       "0     Basic   College           2/18/11         Employed      M  ...   \n",
       "1     Basic   College           1/18/11       Unemployed      F  ...   \n",
       "2     Basic  Bachelor           2/10/11         Employed      M  ...   \n",
       "3  Extended   College           1/11/11         Employed      M  ...   \n",
       "4   Premium  Bachelor           1/17/11    Medical Leave      F  ...   \n",
       "\n",
       "   Number of Open Complaints Number of Policies     Policy Type        Policy  \\\n",
       "0                        0.0                  9  Corporate Auto  Corporate L3   \n",
       "1                        0.0                  1   Personal Auto   Personal L3   \n",
       "2                        0.0                  2   Personal Auto   Personal L3   \n",
       "3                        0.0                  2  Corporate Auto  Corporate L3   \n",
       "4                        NaN                  7   Personal Auto   Personal L2   \n",
       "\n",
       "   Renew Offer Type  Sales Channel  Total Claim Amount  Vehicle Class  \\\n",
       "0            Offer3          Agent          292.800000  Four-Door Car   \n",
       "1            Offer4    Call Center          744.924331  Four-Door Car   \n",
       "2            Offer3    Call Center          480.000000            SUV   \n",
       "3            Offer2         Branch          484.013411  Four-Door Car   \n",
       "4            Offer1         Branch          707.925645  Four-Door Car   \n",
       "\n",
       "  Vehicle Size Vehicle Type  \n",
       "0      Medsize          NaN  \n",
       "1      Medsize          NaN  \n",
       "2      Medsize            A  \n",
       "3      Medsize            A  \n",
       "4      Medsize          NaN  \n",
       "\n",
       "[5 rows x 26 columns]"
      ]
     },
     "execution_count": 3,
     "metadata": {},
     "output_type": "execute_result"
    }
   ],
   "source": [
    "import pandas as pd\n",
    "\n",
    "# Load the dataset from your Downloads folder\n",
    "file_path = '/Users/henriettaokoli/Downloads/marketing_customer_analysis.csv'\n",
    "data = pd.read_csv(file_path)\n",
    "\n",
    "# View the first few rows of the dataset\n",
    "data.head()\n"
   ]
  },
  {
   "cell_type": "code",
   "execution_count": 4,
   "id": "0e3448d5-6d02-4f44-8663-e2a3788e2a7a",
   "metadata": {},
   "outputs": [
    {
     "name": "stdout",
     "output_type": "stream",
     "text": [
      "Shape of the dataframe: (10910, 26)\n"
     ]
    }
   ],
   "source": [
    "print(\"Shape of the dataframe:\", df.shape)\n"
   ]
  },
  {
   "cell_type": "code",
   "execution_count": 5,
   "id": "119f8201-a22f-4ba9-996c-788700f7c865",
   "metadata": {},
   "outputs": [],
   "source": [
    "df.columns = df.columns.str.lower().str.replace(' ', '_')\n"
   ]
  },
  {
   "cell_type": "code",
   "execution_count": 6,
   "id": "527618dc-ede0-41b1-b196-5e1ac18a2782",
   "metadata": {},
   "outputs": [
    {
     "name": "stdout",
     "output_type": "stream",
     "text": [
      "Numerical columns: ['unnamed:_0', 'customer_lifetime_value', 'income', 'monthly_premium_auto', 'months_since_last_claim', 'months_since_policy_inception', 'number_of_open_complaints', 'number_of_policies', 'total_claim_amount']\n",
      "Categorical columns: ['customer', 'state', 'response', 'coverage', 'education', 'effective_to_date', 'employmentstatus', 'gender', 'location_code', 'marital_status', 'policy_type', 'policy', 'renew_offer_type', 'sales_channel', 'vehicle_class', 'vehicle_size', 'vehicle_type']\n"
     ]
    }
   ],
   "source": [
    "numerical_cols = df.select_dtypes(include=[np.number]).columns.tolist()\n",
    "categorical_cols = df.select_dtypes(include=['object']).columns.tolist()\n",
    "\n",
    "print(\"Numerical columns:\", numerical_cols)\n",
    "print(\"Categorical columns:\", categorical_cols)\n"
   ]
  },
  {
   "cell_type": "code",
   "execution_count": 7,
   "id": "ac792111-ac5a-4db5-85d0-7cf8acda764a",
   "metadata": {},
   "outputs": [
    {
     "name": "stdout",
     "output_type": "stream",
     "text": [
      "Missing values per column:\n",
      "unnamed:_0                          0\n",
      "customer                            0\n",
      "state                             631\n",
      "customer_lifetime_value             0\n",
      "response                          631\n",
      "coverage                            0\n",
      "education                           0\n",
      "effective_to_date                   0\n",
      "employmentstatus                    0\n",
      "gender                              0\n",
      "income                              0\n",
      "location_code                       0\n",
      "marital_status                      0\n",
      "monthly_premium_auto                0\n",
      "months_since_last_claim           633\n",
      "months_since_policy_inception       0\n",
      "number_of_open_complaints         633\n",
      "number_of_policies                  0\n",
      "policy_type                         0\n",
      "policy                              0\n",
      "renew_offer_type                    0\n",
      "sales_channel                       0\n",
      "total_claim_amount                  0\n",
      "vehicle_class                     622\n",
      "vehicle_size                      622\n",
      "vehicle_type                     5482\n",
      "dtype: int64\n"
     ]
    }
   ],
   "source": [
    "print(\"Missing values per column:\")\n",
    "print(df.isnull().sum())\n"
   ]
  },
  {
   "cell_type": "code",
   "execution_count": 8,
   "id": "7270a60b-7fe4-459e-84fa-e69c55b93673",
   "metadata": {},
   "outputs": [],
   "source": [
    "# Drop rows with any missing values (if applicable)\n",
    "df = df.dropna()\n",
    "\n",
    "# Alternatively, fill missing values (example for categorical with mode and numerical with mean)\n",
    "df[numerical_cols] = df[numerical_cols].fillna(df[numerical_cols].mean())\n",
    "df[categorical_cols] = df[categorical_cols].fillna(df[categorical_cols].mode().iloc[0])\n"
   ]
  },
  {
   "cell_type": "code",
   "execution_count": 9,
   "id": "c1759fc2-2d81-4465-8b66-755cab567983",
   "metadata": {},
   "outputs": [
    {
     "name": "stderr",
     "output_type": "stream",
     "text": [
      "/var/folders/r7/z9gb1qsn1s19784msdjpwrzh0000gn/T/ipykernel_5318/461582110.py:1: UserWarning: Could not infer format, so each element will be parsed individually, falling back to `dateutil`. To ensure parsing is consistent and as-expected, please specify a format.\n",
      "  df['effective_to_date'] = pd.to_datetime(df['effective_to_date'], errors='coerce')\n"
     ]
    }
   ],
   "source": [
    "df['effective_to_date'] = pd.to_datetime(df['effective_to_date'], errors='coerce')\n"
   ]
  },
  {
   "cell_type": "code",
   "execution_count": 10,
   "id": "ff8e3f3d-982b-4e17-899e-9cee4b9d5054",
   "metadata": {},
   "outputs": [],
   "source": [
    "df['month'] = df['effective_to_date'].dt.month\n"
   ]
  },
  {
   "cell_type": "code",
   "execution_count": 11,
   "id": "bb46dc1c-eac7-40ff-b057-fdbf6208969e",
   "metadata": {},
   "outputs": [
    {
     "name": "stdout",
     "output_type": "stream",
     "text": [
      "       unnamed:_0 customer       state  customer_lifetime_value response  \\\n",
      "2               2  LZ68649  Washington             14947.917300       No   \n",
      "3               3  XL78013      Oregon             22332.439460      Yes   \n",
      "10             10  HG93801     Arizona              5154.764074       No   \n",
      "13             13  KR82385  California              5454.587929       No   \n",
      "16             16  FH51383  California              5326.677654       No   \n",
      "...           ...      ...         ...                      ...      ...   \n",
      "10902       10902  PP30874  California              3579.023825       No   \n",
      "10903       10903  SU71163     Arizona              2771.663013       No   \n",
      "10904       10904  QI63521      Nevada             19228.463620       No   \n",
      "10906       10906  KX53892      Oregon              5259.444853       No   \n",
      "10908       10908  WA60547  California             11971.977650       No   \n",
      "\n",
      "       coverage             education effective_to_date employmentstatus  \\\n",
      "2         Basic              Bachelor        2011-02-10         Employed   \n",
      "3      Extended               College        2011-01-11         Employed   \n",
      "10     Extended  High School or Below        2011-01-02         Employed   \n",
      "13        Basic                Master        2011-01-26         Employed   \n",
      "16        Basic  High School or Below        2011-02-07         Employed   \n",
      "...         ...                   ...               ...              ...   \n",
      "10902  Extended  High School or Below        2011-01-24         Employed   \n",
      "10903     Basic               College        2011-01-07         Employed   \n",
      "10904     Basic  High School or Below        2011-02-24       Unemployed   \n",
      "10906     Basic               College        2011-01-06         Employed   \n",
      "10908   Premium               College        2011-02-13         Employed   \n",
      "\n",
      "      gender  ...  number_of_policies     policy_type        policy  \\\n",
      "2          M  ...                   2   Personal Auto   Personal L3   \n",
      "3          M  ...                   2  Corporate Auto  Corporate L3   \n",
      "10         M  ...                   1  Corporate Auto  Corporate L3   \n",
      "13         M  ...                   4   Personal Auto   Personal L3   \n",
      "16         F  ...                   6   Personal Auto   Personal L3   \n",
      "...      ...  ...                 ...             ...           ...   \n",
      "10902      F  ...                   1   Personal Auto   Personal L2   \n",
      "10903      M  ...                   1   Personal Auto   Personal L2   \n",
      "10904      M  ...                   2   Personal Auto   Personal L2   \n",
      "10906      F  ...                   6   Personal Auto   Personal L3   \n",
      "10908      F  ...                   6   Personal Auto   Personal L1   \n",
      "\n",
      "       renew_offer_type  sales_channel  total_claim_amount  vehicle_class  \\\n",
      "2                Offer3    Call Center          480.000000            SUV   \n",
      "3                Offer2         Branch          484.013411  Four-Door Car   \n",
      "10               Offer2         Branch          442.521087            SUV   \n",
      "13               Offer4    Call Center          331.200000   Two-Door Car   \n",
      "16               Offer4    Call Center          300.528579   Two-Door Car   \n",
      "...                 ...            ...                 ...            ...   \n",
      "10902            Offer2          Agent          655.200000  Four-Door Car   \n",
      "10903            Offer2         Branch          355.200000   Two-Door Car   \n",
      "10904            Offer1         Branch          897.600000     Luxury SUV   \n",
      "10906            Offer2         Branch          273.018929  Four-Door Car   \n",
      "10908            Offer1         Branch          618.288849            SUV   \n",
      "\n",
      "       vehicle_size vehicle_type month  \n",
      "2           Medsize            A     2  \n",
      "3           Medsize            A     1  \n",
      "10            Large            A     1  \n",
      "13          Medsize            A     1  \n",
      "16            Large            A     2  \n",
      "...             ...          ...   ...  \n",
      "10902       Medsize            A     1  \n",
      "10903       Medsize            A     1  \n",
      "10904       Medsize            A     2  \n",
      "10906       Medsize            A     1  \n",
      "10908       Medsize            A     2  \n",
      "\n",
      "[4543 rows x 27 columns]\n"
     ]
    }
   ],
   "source": [
    "first_quarter_df = df[df['month'].isin([1, 2, 3])]\n",
    "print(first_quarter_df)\n"
   ]
  },
  {
   "cell_type": "code",
   "execution_count": 13,
   "id": "20dba2c7-c4f4-4a41-81e3-1d73ebc67162",
   "metadata": {},
   "outputs": [],
   "source": [
    "df['effective_to_date'] = pd.to_datetime(df['effective_to_date'], format=\"%m/%d/%Y\", errors='coerce')\n"
   ]
  },
  {
   "cell_type": "code",
   "execution_count": 14,
   "id": "0946ff4a-2f31-4b5a-a39e-35166824daf2",
   "metadata": {},
   "outputs": [
    {
     "name": "stdout",
     "output_type": "stream",
     "text": [
      "2    2011-02-10\n",
      "3    2011-01-11\n",
      "10   2011-01-02\n",
      "13   2011-01-26\n",
      "16   2011-02-07\n",
      "Name: effective_to_date, dtype: datetime64[ns]\n"
     ]
    }
   ],
   "source": [
    "print(df['effective_to_date'].head())\n"
   ]
  },
  {
   "cell_type": "code",
   "execution_count": 16,
   "id": "c730802e-2bf8-4df4-91e3-b35d41c12e87",
   "metadata": {},
   "outputs": [
    {
     "name": "stdout",
     "output_type": "stream",
     "text": [
      "Empty DataFrame\n",
      "Columns: [unnamed:_0, customer, state, customer_lifetime_value, response, coverage, education, effective_to_date, employmentstatus, gender, income, location_code, marital_status, monthly_premium_auto, months_since_last_claim, months_since_policy_inception, number_of_open_complaints, number_of_policies, policy_type, policy, renew_offer_type, sales_channel, total_claim_amount, vehicle_class, vehicle_size, vehicle_type, month]\n",
      "Index: []\n",
      "\n",
      "[0 rows x 27 columns]\n"
     ]
    }
   ],
   "source": [
    "def process_data(file_path):\n",
    "    # Load the CSV file\n",
    "    df = pd.read_csv(file_path)\n",
    "    \n",
    "    # Standardize header names\n",
    "    df.columns = df.columns.str.lower().str.replace(' ', '_')\n",
    "    \n",
    "    # Identify numerical and categorical columns\n",
    "    numerical_cols = df.select_dtypes(include=[np.number]).columns.tolist()\n",
    "    categorical_cols = df.select_dtypes(include=['object']).columns.tolist()\n",
    "    \n",
    "    # Handle missing values\n",
    "    df[numerical_cols] = df[numerical_cols].fillna(df[numerical_cols].mean())\n",
    "    df[categorical_cols] = df[categorical_cols].fillna(df[categorical_cols].mode().iloc[0])\n",
    "    \n",
    "    # Convert 'effective_to_date' to datetime format with explicit format\n",
    "    df['effective_to_date'] = pd.to_datetime(df['effective_to_date'], format=\"%m/%d/%Y\", errors='coerce')\n",
    "    \n",
    "    # Extract month and filter for first quarter\n",
    "    df['month'] = df['effective_to_date'].dt.month\n",
    "    first_quarter_df = df[df['month'].isin([1, 2, 3])]\n",
    "    \n",
    "    return first_quarter_df\n",
    "\n",
    "# Example usage\n",
    "file_path = '/Users/henriettaokoli/Downloads/marketing_customer_analysis.csv'\n",
    "processed_df = process_data(file_path)\n",
    "print(processed_df)\n"
   ]
  },
  {
   "cell_type": "code",
   "execution_count": null,
   "id": "9b42cac8-169f-40a3-9480-413c4f329067",
   "metadata": {},
   "outputs": [],
   "source": []
  }
 ],
 "metadata": {
  "kernelspec": {
   "display_name": "Python 3 (ipykernel)",
   "language": "python",
   "name": "python3"
  },
  "language_info": {
   "codemirror_mode": {
    "name": "ipython",
    "version": 3
   },
   "file_extension": ".py",
   "mimetype": "text/x-python",
   "name": "python",
   "nbconvert_exporter": "python",
   "pygments_lexer": "ipython3",
   "version": "3.11.7"
  }
 },
 "nbformat": 4,
 "nbformat_minor": 5
}
